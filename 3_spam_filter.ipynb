{
 "cells": [
  {
   "cell_type": "markdown",
   "id": "02d1ed24-1111-4548-a144-06c2ae7bcf88",
   "metadata": {},
   "source": [
    "# Spam Filter (Exercise 3.4)\n",
    "\n",
    "A spam/ham classifier based on the provided solutions."
   ]
  },
  {
   "cell_type": "code",
   "execution_count": 116,
   "id": "68b85e71-bbbd-4643-9318-0c02f62fc43f",
   "metadata": {},
   "outputs": [],
   "source": [
    "import numpy as np\n",
    "import pandas as pd\n",
    "\n",
    "#downloading tar files\n",
    "import tarfile\n",
    "from pathlib import Path\n",
    "import urllib.request\n",
    "\n",
    "#emails\n",
    "import email\n",
    "import email.policy\n",
    "\n",
    "#parsing HTML\n",
    "from bs4 import BeautifulSoup\n",
    "from html import unescape\n",
    "\n",
    "#processing data\n",
    "import nltk\n",
    "import urlextract\n",
    "import re\n",
    "\n",
    "\n",
    "#sklearn\n",
    "from sklearn.model_selection import train_test_split\n",
    "from sklearn.base import BaseEstimator, TransformerMixin"
   ]
  },
  {
   "cell_type": "markdown",
   "id": "d76c0d6b-d7a3-49e8-8394-7bd68c01d2a4",
   "metadata": {},
   "source": [
    "## Loading Data\n",
    "\n",
    "We load in `20030228_easy_ham`, `20030228_easy_ham_2`, `20030228_hard_ham`, `20030228_spam` and `20030228_spam_2` from [spamassassin.apache.org/old/publiccorpus/](https://spamassassin.apache.org/old/publiccorpus/) which is a combined 4150 ham emails and 1897 spam emails with a variety of difficulty."
   ]
  },
  {
   "cell_type": "code",
   "execution_count": 45,
   "id": "c2b4100c-76fb-4348-913b-bd8aaa611ac7",
   "metadata": {},
   "outputs": [],
   "source": [
    "def fetch_spam_data():\n",
    "    spam_root = \"http://spamassassin.apache.org/old/publiccorpus/\"\n",
    "                 \n",
    "    files = ((\"easy_ham\", \"20030228_easy_ham\"),\n",
    "             (\"easy_ham_2\", \"20030228_easy_ham_2\"), \n",
    "             (\"hard_ham\", \"20030228_hard_ham\"),\n",
    "             (\"spam\", \"20030228_spam\"),\n",
    "             (\"spam_2\", \"20030228_spam_2\"))\n",
    "    \n",
    "    spam_path = Path() / \"datasets\" / \"spam\"\n",
    "    spam_path.mkdir(parents=True, exist_ok=True)\n",
    "                 \n",
    "    for name, filename in files:\n",
    "        url = spam_root + filename + \".tar.bz2\"\n",
    "        \n",
    "        if not (spam_path / name).is_dir():\n",
    "            path = (spam_path / name).with_suffix(\".tar.bz2\")\n",
    "            print(\"Downloading\", url, \"to\", path)\n",
    "            urllib.request.urlretrieve(url, path)\n",
    "            tar_bz2_file = tarfile.open(path)\n",
    "            tar_bz2_file.extractall(path=spam_path)\n",
    "            tar_bz2_file.close()\n",
    "    return [spam_path / name for name in [f[0] for f in files]]"
   ]
  },
  {
   "cell_type": "code",
   "execution_count": 46,
   "id": "eadca333-1ce5-4c1f-9db1-2c7cc9c6f7b0",
   "metadata": {},
   "outputs": [],
   "source": [
    "def get_emails(dirs):\n",
    "    emails = []\n",
    "    for d in dirs:\n",
    "        filenames = [f for f in sorted(d.iterdir()) if len(f.name) > 20]\n",
    "        for filepath in filenames:\n",
    "            with open(filepath, \"rb\") as f:\n",
    "                emails.append(email.parser.BytesParser(policy=email.policy.default).parse(f))\n",
    "    \n",
    "    return emails"
   ]
  },
  {
   "cell_type": "code",
   "execution_count": 47,
   "id": "1178fd49-e2b8-4b13-821e-fec401d35af5",
   "metadata": {},
   "outputs": [],
   "source": [
    "dirs = fetch_spam_data()\n",
    "\n",
    "ham_emails = get_emails(dirs[:3])\n",
    "spam_emails = get_emails(dirs[3:])"
   ]
  },
  {
   "cell_type": "markdown",
   "id": "87aa7110-3cca-436b-a4a0-2c28ef4c6489",
   "metadata": {},
   "source": [
    "### Train/Test Split"
   ]
  },
  {
   "cell_type": "code",
   "execution_count": 50,
   "id": "0b19464b-8685-49f4-a310-918ff0180048",
   "metadata": {},
   "outputs": [],
   "source": [
    "X = np.array(ham_emails + spam_emails, dtype=object)\n",
    "y = np.array([0] * len(ham_emails) + [1] * len(spam_emails))\n",
    "\n",
    "X_train, X_test, y_train, y_test = train_test_split(X, y, test_size=0.2, random_state=93)"
   ]
  },
  {
   "cell_type": "markdown",
   "id": "0e5270ff-c098-443d-a753-0ba9b27bb3d3",
   "metadata": {},
   "source": [
    "## Preprocessing Pipeline\n",
    "\n",
    "### Parsing Emails Structure\n",
    "\n",
    "We create a function which iterates through the parts of an email and returns the plain text from any plain text or html (parsed with beautiful soup) parts."
   ]
  },
  {
   "cell_type": "code",
   "execution_count": 63,
   "id": "e864a2d5-7d69-4489-9ee4-cb40cbbd7e17",
   "metadata": {},
   "outputs": [],
   "source": [
    "def email_to_text(email):\n",
    "    for part in email.walk():\n",
    "        ctype = part.get_content_type()\n",
    "        if not ctype in (\"text/plain\", \"text/html\"):\n",
    "            continue\n",
    "        try:\n",
    "            content = part.get_content()\n",
    "        except:\n",
    "            content = str(part.get_payload())\n",
    "        if ctype == \"text/plain\":\n",
    "            return content\n",
    "        else:\n",
    "            soup = BeautifulSoup(content, 'html.parser')\n",
    "            text = soup.get_text(separator='\\n', strip=True)\n",
    "            return unescape(text)"
   ]
  },
  {
   "cell_type": "markdown",
   "id": "744e09f6-1656-42c4-afb1-d29298b3aa1e",
   "metadata": {},
   "source": [
    "#### Viewing email object details"
   ]
  },
  {
   "cell_type": "code",
   "execution_count": 106,
   "id": "d7deec55-ffae-42d5-b9d6-c69d0e968979",
   "metadata": {},
   "outputs": [],
   "source": [
    "def email_info(email, spam):\n",
    "    print(\"\\033[1mSpam:\\033[0m\", bool(spam))\n",
    "    print(\"\\033[1mHas HTML:\\033[0m\", any(part.get_content_type() == \"text/html\" for part in email.walk()))\n",
    "    print(\"\\033[1mFrom:\\033[0m\", email[\"From\"])\n",
    "    print(\"\\033[1mSubject:\\033[0m\", email[\"Subject\"])\n",
    "    print(\"\\u2594\" * 120)\n",
    "    print(email_to_text(email))"
   ]
  },
  {
   "cell_type": "code",
   "execution_count": 115,
   "id": "e1cafbac-9c69-4eec-ab88-3031e33823f7",
   "metadata": {},
   "outputs": [
    {
     "name": "stdout",
     "output_type": "stream",
     "text": [
      "\u001b[1mSpam:\u001b[0m True\n",
      "\u001b[1mHas HTML:\u001b[0m False\n",
      "\u001b[1mFrom:\u001b[0m fort@bluemail.dk\n",
      "\u001b[1mSubject:\u001b[0m FORTUNE 500 COMPANY HIRING, AT HOME REPS.\n",
      "▔▔▔▔▔▔▔▔▔▔▔▔▔▔▔▔▔▔▔▔▔▔▔▔▔▔▔▔▔▔▔▔▔▔▔▔▔▔▔▔▔▔▔▔▔▔▔▔▔▔▔▔▔▔▔▔▔▔▔▔▔▔▔▔▔▔▔▔▔▔▔▔▔▔▔▔▔▔▔▔▔▔▔▔▔▔▔▔▔▔▔▔▔▔▔▔▔▔▔▔▔▔▔▔▔▔▔▔▔▔▔▔▔▔▔▔▔▔▔▔\n",
      "Help wanted.  We are a 14 year old fortune 500 company, that is\n",
      "growing at a tremendous rate.  We are looking for individuals who\n",
      "want to work from home.\n",
      "\n",
      "This is an opportunity to make an excellent income.  No experience\n",
      "is required.  We will train you.\n",
      "\n",
      "So if you are looking to be employed from home with a career that has\n",
      "vast opportunities, then go:\n",
      "\n",
      "http://www.basetel.com/wealthnow\n",
      "\n",
      "We are looking for energetic and self motivated people.  If that is you\n",
      "than click on the link and fill out the form, and one of our\n",
      "employement specialist will contact you.\n",
      "\n",
      "To be removed from our link simple go to:\n",
      "\n",
      "http://www.basetel.com/remove.html\n",
      "\n",
      "\n",
      "4139vOLW7-758DoDY1425FRhM1-764SMFc8513fCsLl40\n",
      "\n",
      "\n"
     ]
    }
   ],
   "source": [
    "email_info(X[4156], y[4156])"
   ]
  },
  {
   "cell_type": "markdown",
   "id": "974a6e5d-b13a-4601-a1f0-5d8f9de5cbf5",
   "metadata": {},
   "source": [
    "### Custom Transformers\n",
    "\n",
    "How to process the email data:\n",
    "- Transform content of email to plain text\n",
    "- Transform plain text for Word Counter\n",
    "    - lower case\n",
    "    - replace urls with \"URL\"\n",
    "    - replace numbers with \"NUMBER\"\n",
    "    - remove any punctuation\n",
    "    - remove stop words\n",
    "    - perform stemming to group similar words\n",
    "- Count occurences of each word in text content\n",
    "- Create a 0/1 binary tag showing if an email contains html\n",
    "- Vectorise data with a sparse matrix\n",
    "\n",
    "Throughout, variables that are made as a choice should be made accessible to be tuned during hyper-parameter tuning."
   ]
  },
  {
   "cell_type": "code",
   "execution_count": null,
   "id": "9847bde7-f207-4aff-8e02-c7cf438a0199",
   "metadata": {},
   "outputs": [],
   "source": []
  }
 ],
 "metadata": {
  "kernelspec": {
   "display_name": "Python 3 (ipykernel)",
   "language": "python",
   "name": "python3"
  },
  "language_info": {
   "codemirror_mode": {
    "name": "ipython",
    "version": 3
   },
   "file_extension": ".py",
   "mimetype": "text/x-python",
   "name": "python",
   "nbconvert_exporter": "python",
   "pygments_lexer": "ipython3",
   "version": "3.9.13"
  }
 },
 "nbformat": 4,
 "nbformat_minor": 5
}
