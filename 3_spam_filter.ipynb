{
 "cells": [
  {
   "cell_type": "markdown",
   "id": "02d1ed24-1111-4548-a144-06c2ae7bcf88",
   "metadata": {},
   "source": [
    "# Spam Filter (Exercise 3.4)\n",
    "\n",
    "A spam/ham classifier based on the provided solutions."
   ]
  },
  {
   "cell_type": "code",
   "execution_count": 6,
   "id": "68b85e71-bbbd-4643-9318-0c02f62fc43f",
   "metadata": {},
   "outputs": [],
   "source": [
    "import tarfile"
   ]
  },
  {
   "cell_type": "markdown",
   "id": "d76c0d6b-d7a3-49e8-8394-7bd68c01d2a4",
   "metadata": {},
   "source": [
    "## Loading Data"
   ]
  },
  {
   "cell_type": "code",
   "execution_count": 7,
   "id": "c2b4100c-76fb-4348-913b-bd8aaa611ac7",
   "metadata": {},
   "outputs": [],
   "source": [
    "def fetch_spam_data():\n",
    "    spam_root = \"http://spamassassin.apache.org/old/publiccorpus/\"\n",
    "                 \n",
    "    files = ((\"easy_ham_1\", \"20030228_easy_ham\"),\n",
    "             (\"easy_ham_2\", \"20030228_easy_ham_2\"), \n",
    "             (\"hard_ham_1\", \"20030228_hard_ham\"),\n",
    "             (\"spam_1\", \"20030228_spam\"),\n",
    "             (\"spam_2\", \"20030228_spam_2\"))\n",
    "    \n",
    "    spam_path = Path() / \"datasets\" / \"spam\"\n",
    "    spam_path.mkdir(parents=True, exist_ok=True)\n",
    "                 \n",
    "    for name, filename in files:\n",
    "        url = spam_root + filename + \".tar.bz2\"\n",
    "        if not (spam_path / name).is_dir():\n",
    "            path = (spam_path / name).with_suffix(\".tar.bz2\")\n",
    "            print(\"Downloading\", path)\n",
    "            urllib.request.urlretrieve(url, path)\n",
    "            tar_bz2_file = tarfile.open(path)\n",
    "            tar_bz2_file.extractall(path=spam_path)\n",
    "            tar_bz2_file.close()\n",
    "    return [spam_path / name for name in [f[0] for f in files]]"
   ]
  },
  {
   "cell_type": "code",
   "execution_count": null,
   "id": "4b55e472-be5f-4d77-891d-5096901887e8",
   "metadata": {},
   "outputs": [],
   "source": [
    "print(fetch_spam_data())"
   ]
  }
 ],
 "metadata": {
  "kernelspec": {
   "display_name": "Python 3 (ipykernel)",
   "language": "python",
   "name": "python3"
  },
  "language_info": {
   "codemirror_mode": {
    "name": "ipython",
    "version": 3
   },
   "file_extension": ".py",
   "mimetype": "text/x-python",
   "name": "python",
   "nbconvert_exporter": "python",
   "pygments_lexer": "ipython3",
   "version": "3.9.13"
  }
 },
 "nbformat": 4,
 "nbformat_minor": 5
}
