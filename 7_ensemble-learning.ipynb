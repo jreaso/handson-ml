{
 "cells": [
  {
   "cell_type": "markdown",
   "id": "502866f0-4e30-45d2-9be9-6a4fce6f6e77",
   "metadata": {},
   "source": [
    "# Chapter 7 - Ensemble Learning And Random Forests"
   ]
  }
 ],
 "metadata": {
  "kernelspec": {
   "display_name": "Python 3 (ipykernel)",
   "language": "python",
   "name": "python3"
  },
  "language_info": {
   "codemirror_mode": {
    "name": "ipython",
    "version": 3
   },
   "file_extension": ".py",
   "mimetype": "text/x-python",
   "name": "python",
   "nbconvert_exporter": "python",
   "pygments_lexer": "ipython3",
   "version": "3.9.13"
  }
 },
 "nbformat": 4,
 "nbformat_minor": 5
}
