{
 "cells": [
  {
   "cell_type": "markdown",
   "id": "02d1ed24-1111-4548-a144-06c2ae7bcf88",
   "metadata": {},
   "source": [
    "# Spam Filter\n",
    "\n",
    "This is **Exercise 3.4**, a spam/ham classifier."
   ]
  },
  {
   "cell_type": "code",
   "execution_count": 291,
   "id": "68b85e71-bbbd-4643-9318-0c02f62fc43f",
   "metadata": {},
   "outputs": [],
   "source": [
    "import numpy as np\n",
    "import pandas as pd\n",
    "\n",
    "#plotting\n",
    "import seaborn as sns\n",
    "import matplotlib.pyplot as plt\n",
    "\n",
    "#downloading tar files\n",
    "import tarfile\n",
    "from pathlib import Path\n",
    "import urllib.request\n",
    "\n",
    "#emails\n",
    "import email\n",
    "import email.policy\n",
    "\n",
    "#parsing HTML\n",
    "from bs4 import BeautifulSoup\n",
    "from html import unescape\n",
    "\n",
    "#processing data\n",
    "import nltk\n",
    "from nltk.corpus import stopwords\n",
    "import urlextract\n",
    "from collections import Counter\n",
    "import re\n",
    "\n",
    "#sparse matrix\n",
    "from scipy.sparse import csr_matrix\n",
    "\n",
    "#train/test split\n",
    "from sklearn.model_selection import train_test_split\n",
    "\n",
    "#transformers and pipelines\n",
    "from sklearn.base import BaseEstimator, TransformerMixin\n",
    "from sklearn.pipeline import Pipeline\n",
    "\n",
    "#models\n",
    "from sklearn.linear_model import LogisticRegression\n",
    "from sklearn.svm import SVC\n",
    "from sklearn.ensemble import RandomForestClassifier\n",
    "from xgboost import XGBClassifier\n",
    "\n",
    "#model Selection\n",
    "from sklearn.model_selection import cross_val_score\n",
    "\n",
    "#randomized search\n",
    "from scipy.stats import randint\n",
    "from sklearn.model_selection import RandomizedSearchCV\n",
    "\n",
    "#classification metrics\n",
    "from sklearn.metrics import precision_score, recall_score"
   ]
  },
  {
   "cell_type": "code",
   "execution_count": 138,
   "id": "b6039f95-706b-4b32-adb5-1fac1b88a1ac",
   "metadata": {},
   "outputs": [
    {
     "name": "stderr",
     "output_type": "stream",
     "text": [
      "[nltk_data] Downloading package stopwords to\n",
      "[nltk_data]     /Users/jamiereason/nltk_data...\n",
      "[nltk_data]   Package stopwords is already up-to-date!\n"
     ]
    },
    {
     "data": {
      "text/plain": [
       "True"
      ]
     },
     "execution_count": 138,
     "metadata": {},
     "output_type": "execute_result"
    }
   ],
   "source": [
    "#Download stop_words data\n",
    "nltk.download('stopwords')"
   ]
  },
  {
   "cell_type": "markdown",
   "id": "d76c0d6b-d7a3-49e8-8394-7bd68c01d2a4",
   "metadata": {},
   "source": [
    "## Loading Data\n",
    "\n",
    "We load in `20030228_easy_ham`, `20030228_easy_ham_2`, `20030228_hard_ham`, `20030228_spam` and `20030228_spam_2` from [spamassassin.apache.org/old/publiccorpus/](https://spamassassin.apache.org/old/publiccorpus/) which is a combined 4150 ham emails and 1897 spam emails with a variety of difficulty."
   ]
  },
  {
   "cell_type": "code",
   "execution_count": 45,
   "id": "c2b4100c-76fb-4348-913b-bd8aaa611ac7",
   "metadata": {},
   "outputs": [],
   "source": [
    "def fetch_spam_data():\n",
    "    spam_root = \"http://spamassassin.apache.org/old/publiccorpus/\"\n",
    "                 \n",
    "    files = ((\"easy_ham\", \"20030228_easy_ham\"),\n",
    "             (\"easy_ham_2\", \"20030228_easy_ham_2\"), \n",
    "             (\"hard_ham\", \"20030228_hard_ham\"),\n",
    "             (\"spam\", \"20030228_spam\"),\n",
    "             (\"spam_2\", \"20030228_spam_2\"))\n",
    "    \n",
    "    spam_path = Path() / \"datasets\" / \"spam\"\n",
    "    spam_path.mkdir(parents=True, exist_ok=True)\n",
    "                 \n",
    "    for name, filename in files:\n",
    "        url = spam_root + filename + \".tar.bz2\"\n",
    "        \n",
    "        if not (spam_path / name).is_dir():\n",
    "            path = (spam_path / name).with_suffix(\".tar.bz2\")\n",
    "            print(\"Downloading\", url, \"to\", path)\n",
    "            urllib.request.urlretrieve(url, path)\n",
    "            tar_bz2_file = tarfile.open(path)\n",
    "            tar_bz2_file.extractall(path=spam_path)\n",
    "            tar_bz2_file.close()\n",
    "    return [spam_path / name for name in [f[0] for f in files]]"
   ]
  },
  {
   "cell_type": "code",
   "execution_count": 46,
   "id": "eadca333-1ce5-4c1f-9db1-2c7cc9c6f7b0",
   "metadata": {},
   "outputs": [],
   "source": [
    "def get_emails(dirs):\n",
    "    emails = []\n",
    "    for d in dirs:\n",
    "        filenames = [f for f in sorted(d.iterdir()) if len(f.name) > 20]\n",
    "        for filepath in filenames:\n",
    "            with open(filepath, \"rb\") as f:\n",
    "                emails.append(email.parser.BytesParser(policy=email.policy.default).parse(f))\n",
    "    \n",
    "    return emails"
   ]
  },
  {
   "cell_type": "code",
   "execution_count": 47,
   "id": "1178fd49-e2b8-4b13-821e-fec401d35af5",
   "metadata": {},
   "outputs": [],
   "source": [
    "dirs = fetch_spam_data()\n",
    "\n",
    "ham_emails = get_emails(dirs[:3])\n",
    "spam_emails = get_emails(dirs[3:])"
   ]
  },
  {
   "cell_type": "markdown",
   "id": "87aa7110-3cca-436b-a4a0-2c28ef4c6489",
   "metadata": {},
   "source": [
    "### Train/Test Split"
   ]
  },
  {
   "cell_type": "code",
   "execution_count": 50,
   "id": "0b19464b-8685-49f4-a310-918ff0180048",
   "metadata": {},
   "outputs": [],
   "source": [
    "X = np.array(ham_emails + spam_emails, dtype=object)\n",
    "y = np.array([0] * len(ham_emails) + [1] * len(spam_emails))\n",
    "\n",
    "X_train, X_test, y_train, y_test = train_test_split(X, y, test_size=0.2, random_state=93)"
   ]
  },
  {
   "cell_type": "markdown",
   "id": "0e5270ff-c098-443d-a753-0ba9b27bb3d3",
   "metadata": {},
   "source": [
    "## Preprocessing Pipeline\n",
    "\n",
    "### Parsing Emails Structure\n",
    "\n",
    "We create a function which iterates through the parts of an email and returns the plain text from any plain text or html (parsed with beautiful soup) parts."
   ]
  },
  {
   "cell_type": "code",
   "execution_count": 63,
   "id": "e864a2d5-7d69-4489-9ee4-cb40cbbd7e17",
   "metadata": {},
   "outputs": [],
   "source": [
    "def email_to_text(email):\n",
    "    for part in email.walk():\n",
    "        ctype = part.get_content_type()\n",
    "        if not ctype in (\"text/plain\", \"text/html\"):\n",
    "            continue\n",
    "        try:\n",
    "            content = part.get_content()\n",
    "        except:\n",
    "            content = str(part.get_payload())\n",
    "        if ctype == \"text/plain\":\n",
    "            return content\n",
    "        else:\n",
    "            soup = BeautifulSoup(content, 'html.parser')\n",
    "            text = soup.get_text(separator='\\n', strip=True)\n",
    "            return unescape(text)"
   ]
  },
  {
   "cell_type": "markdown",
   "id": "744e09f6-1656-42c4-afb1-d29298b3aa1e",
   "metadata": {},
   "source": [
    "#### Viewing email object details"
   ]
  },
  {
   "cell_type": "code",
   "execution_count": 106,
   "id": "d7deec55-ffae-42d5-b9d6-c69d0e968979",
   "metadata": {},
   "outputs": [],
   "source": [
    "def email_info(email, spam):\n",
    "    print(\"\\033[1mSpam:\\033[0m\", bool(spam))\n",
    "    print(\"\\033[1mHas HTML:\\033[0m\", any(part.get_content_type() == \"text/html\" for part in email.walk()))\n",
    "    print(\"\\033[1mFrom:\\033[0m\", email[\"From\"])\n",
    "    print(\"\\033[1mSubject:\\033[0m\", email[\"Subject\"])\n",
    "    print(\"\\u2594\" * 120)\n",
    "    print(email_to_text(email))"
   ]
  },
  {
   "cell_type": "code",
   "execution_count": 115,
   "id": "e1cafbac-9c69-4eec-ab88-3031e33823f7",
   "metadata": {},
   "outputs": [
    {
     "name": "stdout",
     "output_type": "stream",
     "text": [
      "\u001b[1mSpam:\u001b[0m True\n",
      "\u001b[1mHas HTML:\u001b[0m False\n",
      "\u001b[1mFrom:\u001b[0m fort@bluemail.dk\n",
      "\u001b[1mSubject:\u001b[0m FORTUNE 500 COMPANY HIRING, AT HOME REPS.\n",
      "▔▔▔▔▔▔▔▔▔▔▔▔▔▔▔▔▔▔▔▔▔▔▔▔▔▔▔▔▔▔▔▔▔▔▔▔▔▔▔▔▔▔▔▔▔▔▔▔▔▔▔▔▔▔▔▔▔▔▔▔▔▔▔▔▔▔▔▔▔▔▔▔▔▔▔▔▔▔▔▔▔▔▔▔▔▔▔▔▔▔▔▔▔▔▔▔▔▔▔▔▔▔▔▔▔▔▔▔▔▔▔▔▔▔▔▔▔▔▔▔\n",
      "Help wanted.  We are a 14 year old fortune 500 company, that is\n",
      "growing at a tremendous rate.  We are looking for individuals who\n",
      "want to work from home.\n",
      "\n",
      "This is an opportunity to make an excellent income.  No experience\n",
      "is required.  We will train you.\n",
      "\n",
      "So if you are looking to be employed from home with a career that has\n",
      "vast opportunities, then go:\n",
      "\n",
      "http://www.basetel.com/wealthnow\n",
      "\n",
      "We are looking for energetic and self motivated people.  If that is you\n",
      "than click on the link and fill out the form, and one of our\n",
      "employement specialist will contact you.\n",
      "\n",
      "To be removed from our link simple go to:\n",
      "\n",
      "http://www.basetel.com/remove.html\n",
      "\n",
      "\n",
      "4139vOLW7-758DoDY1425FRhM1-764SMFc8513fCsLl40\n",
      "\n",
      "\n"
     ]
    }
   ],
   "source": [
    "email_info(X[4156], y[4156])"
   ]
  },
  {
   "cell_type": "markdown",
   "id": "974a6e5d-b13a-4601-a1f0-5d8f9de5cbf5",
   "metadata": {},
   "source": [
    "### Custom Transformers\n",
    "\n",
    "How to process the email data:\n",
    "- Transform content of email to plain text\n",
    "- Transform plain text for Word Counter\n",
    "    - lower case\n",
    "    - replace urls with \"URL\"\n",
    "    - replace numbers with \"NUMBER\"\n",
    "    - remove any punctuation\n",
    "    - remove stop words\n",
    "    - perform stemming to group similar words\n",
    "- Count occurences of each word in text content\n",
    "- Create a 0/1 binary tag showing if an email contains html\n",
    "- Vectorise data with a sparse matrix\n",
    "\n",
    "Throughout, variables that are made as a choice should be made accessible to be tuned during hyper-parameter tuning."
   ]
  },
  {
   "cell_type": "code",
   "execution_count": 139,
   "id": "59e5d9ad-deaa-4432-9f49-2355246b9d81",
   "metadata": {},
   "outputs": [],
   "source": [
    "url_extractor = urlextract.URLExtract()\n",
    "stemmer = nltk.PorterStemmer()\n",
    "stop_words = set(stopwords.words('english'))"
   ]
  },
  {
   "cell_type": "code",
   "execution_count": 271,
   "id": "728b76c8-7014-4e7a-8e90-12bf473dbe87",
   "metadata": {},
   "outputs": [],
   "source": [
    "class EmailToWordCounterTransformer(BaseEstimator, TransformerMixin):\n",
    "    def __init__(self, strip_headers=True, lower_case=True, remove_punctuation=True,\n",
    "                 replace_urls=True, replace_numbers=True, remove_stop_words=True, stemming=True):\n",
    "        self.strip_headers = strip_headers\n",
    "        self.lower_case = lower_case\n",
    "        self.remove_punctuation = remove_punctuation\n",
    "        self.replace_urls = replace_urls\n",
    "        self.replace_numbers = replace_numbers\n",
    "        self.remove_stop_words = remove_stop_words\n",
    "        self.stemming = stemming\n",
    "        \n",
    "    def fit(self, X, y=None):\n",
    "        return self\n",
    "    \n",
    "    def transform(self, X, y=None):\n",
    "        X_transformed = []\n",
    "        \n",
    "        for email in X:\n",
    "            text = email_to_text(email) or \"\"\n",
    "            \n",
    "            #Lower Case\n",
    "            if self.lower_case:\n",
    "                text = text.lower()\n",
    "                \n",
    "            #Replace URLs\n",
    "            if self.replace_urls and url_extractor is not None:\n",
    "                urls = list(set(url_extractor.find_urls(text)))\n",
    "                urls.sort(key=lambda url: len(url), reverse=True)\n",
    "                for url in urls:\n",
    "                    text = text.replace(url, \" URL \")\n",
    "            \n",
    "            #Replace Numbers\n",
    "            if self.replace_numbers:\n",
    "                text = re.sub(r'\\d+(?:\\.\\d*)?(?:[eE][+-]?\\d+)?', 'NUMBER', text)\n",
    "            \n",
    "            #Remove Punctuation and Underscores\n",
    "            if self.remove_punctuation:\n",
    "                text = re.sub(r'\\W+', ' ', text, flags=re.M)\n",
    "                text = re.sub(r'_+', ' ', text, flags=re.M)\n",
    "            \n",
    "            #Count Words\n",
    "            word_counts = Counter(text.split())\n",
    "            \n",
    "            #Remove Stop Words\n",
    "            if self.remove_stop_words:\n",
    "                for word in list(word_counts.keys()):\n",
    "                    if word.lower() in stop_words:\n",
    "                        del word_counts[word]\n",
    "            \n",
    "            #Stemming\n",
    "            if self.stemming and stemmer is not None:\n",
    "                stemmed_word_counts = Counter()\n",
    "                for word, count in word_counts.items():\n",
    "                    stemmed_word = stemmer.stem(word)\n",
    "                    stemmed_word_counts[stemmed_word] += count\n",
    "                word_counts = stemmed_word_counts\n",
    "            \n",
    "            X_transformed.append(word_counts)\n",
    "            \n",
    "        return np.array(X_transformed)"
   ]
  },
  {
   "cell_type": "code",
   "execution_count": 207,
   "id": "33587d2d-28fc-4a5e-8905-507c804fefdb",
   "metadata": {},
   "outputs": [],
   "source": [
    "class WordCounterToVectorTransformer(BaseEstimator, TransformerMixin):\n",
    "    def __init__(self, vocabulary_size=1000, word_count_threshold=10):\n",
    "        self.vocabulary_size = vocabulary_size\n",
    "        self.word_count_threshold = word_count_threshold\n",
    "        \n",
    "    def fit(self, X, y=None):\n",
    "        total_count = Counter()\n",
    "        for word_count in X:\n",
    "            for word, count in word_count.items():\n",
    "                total_count[word] += min(count, self.word_count_threshold)\n",
    "        most_common = total_count.most_common()[:self.vocabulary_size]\n",
    "        \n",
    "        self.vocabulary_ = {word: index + 1\n",
    "                            for index, (word, count) in enumerate(most_common)}\n",
    "        return self\n",
    "    \n",
    "    def transform(self, X, y=None):\n",
    "        rows = []\n",
    "        cols = []\n",
    "        data = []\n",
    "        for row, word_count in enumerate(X):\n",
    "            for word, count in word_count.items():\n",
    "                rows.append(row)\n",
    "                cols.append(self.vocabulary_.get(word, 0))\n",
    "                data.append(count)\n",
    "                \n",
    "        return csr_matrix((data, (rows, cols)), shape=(len(X), self.vocabulary_size + 1))"
   ]
  },
  {
   "cell_type": "markdown",
   "id": "dc661d05-200b-47b2-a868-bffcce4d33b6",
   "metadata": {},
   "source": [
    "### Pipeline"
   ]
  },
  {
   "cell_type": "code",
   "execution_count": 272,
   "id": "7da3d020-597b-476d-b839-d6c6442beb7d",
   "metadata": {},
   "outputs": [],
   "source": [
    "preprocessing_pipeline = Pipeline([\n",
    "    ('word_counter', EmailToWordCounterTransformer()),\n",
    "    ('vectorizer', WordCounterToVectorTransformer())\n",
    "])"
   ]
  },
  {
   "cell_type": "markdown",
   "id": "a459db27-96ee-481e-81a6-ff0cf33cc5b9",
   "metadata": {},
   "source": [
    "## Choosing a Model"
   ]
  },
  {
   "cell_type": "code",
   "execution_count": 232,
   "id": "014918b4-30f1-4b1f-b6b2-329abbdf2412",
   "metadata": {},
   "outputs": [],
   "source": [
    "#Transform training data\n",
    "X_train_transformed = preprocessing_pipeline.fit_transform(X_train)"
   ]
  },
  {
   "cell_type": "code",
   "execution_count": 247,
   "id": "4a0f7f2a-72d1-4025-97fa-bfbebff79969",
   "metadata": {},
   "outputs": [],
   "source": [
    "model_cv_scores = {}"
   ]
  },
  {
   "cell_type": "markdown",
   "id": "a15887e3-8d3e-4d36-849c-e77a63c89819",
   "metadata": {},
   "source": [
    "### Logistic Regression"
   ]
  },
  {
   "cell_type": "code",
   "execution_count": 248,
   "id": "df1db3a8-94bc-4cde-a8a3-a0aeb054da80",
   "metadata": {},
   "outputs": [],
   "source": [
    "lr_clf = LogisticRegression(max_iter=1000, random_state=93)\n",
    "model_cv_scores[\"Logistic Regression\"] = cross_val_score(lr_clf, X_train_transformed, y_train, cv=10)"
   ]
  },
  {
   "cell_type": "markdown",
   "id": "5e0c1255-b705-4b18-bf40-53e3a60d3a7e",
   "metadata": {},
   "source": [
    "### Random Forest"
   ]
  },
  {
   "cell_type": "code",
   "execution_count": 250,
   "id": "a52ea532-5505-4143-a7b2-87246daec456",
   "metadata": {},
   "outputs": [],
   "source": [
    "rf_clf = RandomForestClassifier(random_state=93)\n",
    "model_cv_scores[\"Random Forest\"] = cross_val_score(rf_clf, X_train_transformed, y_train, cv=10)"
   ]
  },
  {
   "cell_type": "markdown",
   "id": "5b4e6633-be50-42a6-a8e8-181ec9d42343",
   "metadata": {},
   "source": [
    "### XG Boost"
   ]
  },
  {
   "cell_type": "code",
   "execution_count": 251,
   "id": "2d0e31fd-a886-4aa9-a357-6f44d0d00a9e",
   "metadata": {},
   "outputs": [],
   "source": [
    "xgb_clf = XGBClassifier(random_state=93)\n",
    "model_cv_scores[\"XGB\"] = cross_val_score(xgb_clf, X_train_transformed, y_train, cv=10)"
   ]
  },
  {
   "cell_type": "markdown",
   "id": "5a9f6f68-0fb6-4696-bd56-1b4d73a92d97",
   "metadata": {},
   "source": [
    "### Comparing Untuned Models"
   ]
  },
  {
   "cell_type": "code",
   "execution_count": 268,
   "id": "28919ca6-3aca-4fe0-b0cb-1680ba2f9352",
   "metadata": {},
   "outputs": [
    {
     "data": {
      "image/png": "[encoded data removed]",
      "text/plain": [
       "<Figure size 1000x500 with 1 Axes>"
      ]
     },
     "metadata": {},
     "output_type": "display_data"
    }
   ],
   "source": [
    "sns.set(style=\"whitegrid\")\n",
    "plt.figure(figsize=(10, 5))\n",
    "\n",
    "sns.boxplot(data = pd.DataFrame(model_cv_scores))\n",
    "plt.xlabel(\"Model\")\n",
    "plt.ylabel(\"Accuracy\")\n",
    "plt.title(\"Model 10-Fold CV Accuracy\")\n",
    "plt.show()"
   ]
  },
  {
   "cell_type": "markdown",
   "id": "38c5a027-bc99-4023-8268-48b9a010bb57",
   "metadata": {},
   "source": [
    "It seems that the `RandomForestClassifier` is the most promising model to tune."
   ]
  },
  {
   "cell_type": "markdown",
   "id": "04747db3-67cf-4cef-82ec-b0e2eb4b3114",
   "metadata": {},
   "source": [
    "## Model Tuning"
   ]
  },
  {
   "cell_type": "code",
   "execution_count": 273,
   "id": "a825a40c-2158-4bb2-9212-223ce0c4da34",
   "metadata": {},
   "outputs": [],
   "source": [
    "full_pipeline = Pipeline([\n",
    "    ('preprocessing_pipeline', preprocessing_pipeline),\n",
    "    ('rf_model', RandomForestClassifier(random_state=93))\n",
    "])"
   ]
  },
  {
   "cell_type": "code",
   "execution_count": 290,
   "id": "d4c5e4e7-f6d0-4a5a-9dd3-f81a6f61fa64",
   "metadata": {},
   "outputs": [],
   "source": [
    "param_dist = {\n",
    "    'preprocessing_pipeline__word_counter__remove_stop_words': [True, False],\n",
    "    'preprocessing_pipeline__word_counter__stemming': [True, False],\n",
    "    'preprocessing_pipeline__vectorizer__vocabulary_size': randint(100, 2000),\n",
    "    'preprocessing_pipeline__vectorizer__word_count_threshold': randint(5, 20),\n",
    "    'rf_model__criterion': [\"gini\", \"entropy\"],\n",
    "    'rf_model__max_features': [\"sqrt\", \"log2\"],\n",
    "    'rf_model__n_estimators': randint(10, 800),\n",
    "    'rf_model__max_depth': [None, 10, 20, 30],\n",
    "}"
   ]
  },
  {
   "cell_type": "code",
   "execution_count": 287,
   "id": "9bee9304-4a6d-4971-a595-2fe5de0dfed2",
   "metadata": {},
   "outputs": [
    {
     "data": {
      "text/plain": [
       "RandomizedSearchCV(cv=3,\n",
       "                   estimator=Pipeline(steps=[('preprocessing_pipeline',\n",
       "                                              Pipeline(steps=[('word_counter',\n",
       "                                                               EmailToWordCounterTransformer()),\n",
       "                                                              ('vectorizer',\n",
       "                                                               WordCounterToVectorTransformer())])),\n",
       "                                             ('rf_model',\n",
       "                                              RandomForestClassifier(random_state=93))]),\n",
       "                   n_iter=5, n_jobs=-1,\n",
       "                   param_distributions={'preprocessing_pipeline__vectorizer__vocabulary_size': <scipy.st...\n",
       "                                        'preprocessing_pipeline__word_counter__stemming': [True,\n",
       "                                                                                           False],\n",
       "                                        'preprocessing_pipeline__word_counter__strip_headers': [True,\n",
       "                                                                                                False],\n",
       "                                        'rf_model__criterion': ['gini',\n",
       "                                                                'entropy'],\n",
       "                                        'rf_model__max_depth': [None, 10, 20,\n",
       "                                                                30],\n",
       "                                        'rf_model__max_features': ['sqrt',\n",
       "                                                                   'log2'],\n",
       "                                        'rf_model__n_estimators': <scipy.stats._distn_infrastructure.rv_discrete_frozen object at 0x7fcc8d2f5f40>},\n",
       "                   random_state=93, scoring='accuracy')"
      ]
     },
     "execution_count": 287,
     "metadata": {},
     "output_type": "execute_result"
    }
   ],
   "source": [
    "random_search = RandomizedSearchCV(\n",
    "    estimator = full_pipeline,\n",
    "    param_distributions = param_dist,\n",
    "    n_iter = 50,\n",
    "    cv = 3,\n",
    "    scoring = 'accuracy',\n",
    "    random_state = 93\n",
    ")\n",
    "\n",
    "random_search.fit(X_train, y_train)"
   ]
  },
  {
   "cell_type": "code",
   "execution_count": 289,
   "id": "88e4ca5a-26a2-4740-99ce-27f7f9f999ad",
   "metadata": {},
   "outputs": [
    {
     "data": {
      "text/plain": [
       "{'preprocessing_pipeline__vectorizer__vocabulary_size': 1160,\n",
       " 'preprocessing_pipeline__vectorizer__word_count_threshold': 10,\n",
       " 'preprocessing_pipeline__word_counter__lower_case': True,\n",
       " 'preprocessing_pipeline__word_counter__remove_punctuation': False,\n",
       " 'preprocessing_pipeline__word_counter__remove_stop_words': False,\n",
       " 'preprocessing_pipeline__word_counter__replace_numbers': True,\n",
       " 'preprocessing_pipeline__word_counter__replace_urls': False,\n",
       " 'preprocessing_pipeline__word_counter__stemming': True,\n",
       " 'preprocessing_pipeline__word_counter__strip_headers': True,\n",
       " 'rf_model__criterion': 'entropy',\n",
       " 'rf_model__max_depth': None,\n",
       " 'rf_model__max_features': 'log2',\n",
       " 'rf_model__n_estimators': 706}"
      ]
     },
     "execution_count": 289,
     "metadata": {},
     "output_type": "execute_result"
    }
   ],
   "source": [
    "random_search.best_params_\n",
    "#random_search.best_estimator_"
   ]
  },
  {
   "cell_type": "markdown",
   "id": "3015ebcd-3a15-43b7-b784-92eddbf4557f",
   "metadata": {},
   "source": [
    "## Test Set Predictions and Performance Analysis"
   ]
  },
  {
   "cell_type": "code",
   "execution_count": null,
   "id": "d35f9363-ac7a-44c4-a7bb-51dc68a7bdaf",
   "metadata": {},
   "outputs": [],
   "source": [
    "y_pred = random_search.best_estimator_.predict(X_test)"
   ]
  },
  {
   "cell_type": "markdown",
   "id": "6040aa16-2b40-46fb-8046-5d2ccdf5df32",
   "metadata": {},
   "source": [
    "## Improvements\n",
    "\n",
    "- include a HTML indicator"
   ]
  }
 ],
 "metadata": {
  "kernelspec": {
   "display_name": "Python 3 (ipykernel)",
   "language": "python",
   "name": "python3"
  },
  "language_info": {
   "codemirror_mode": {
    "name": "ipython",
    "version": 3
   },
   "file_extension": ".py",
   "mimetype": "text/x-python",
   "name": "python",
   "nbconvert_exporter": "python",
   "pygments_lexer": "ipython3",
   "version": "3.9.13"
  }
 },
 "nbformat": 4,
 "nbformat_minor": 5
}
