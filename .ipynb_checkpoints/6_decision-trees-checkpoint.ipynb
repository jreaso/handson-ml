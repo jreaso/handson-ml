{
 "cells": [
  {
   "cell_type": "markdown",
   "id": "f173a4c2-782c-40a6-8a60-b3ad7cca2c3b",
   "metadata": {},
   "source": [
    "# Chapter 6 - Decision Trees"
   ]
  }
 ],
 "metadata": {
  "kernelspec": {
   "display_name": "Python 3 (ipykernel)",
   "language": "python",
   "name": "python3"
  },
  "language_info": {
   "codemirror_mode": {
    "name": "ipython",
    "version": 3
   },
   "file_extension": ".py",
   "mimetype": "text/x-python",
   "name": "python",
   "nbconvert_exporter": "python",
   "pygments_lexer": "ipython3",
   "version": "3.9.13"
  }
 },
 "nbformat": 4,
 "nbformat_minor": 5
}
