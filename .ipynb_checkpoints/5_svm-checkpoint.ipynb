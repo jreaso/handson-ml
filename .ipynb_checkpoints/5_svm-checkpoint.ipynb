{
 "cells": [
  {
   "cell_type": "markdown",
   "id": "ece4f7ef-91da-45fc-b9f7-a7c41e8862de",
   "metadata": {},
   "source": [
    "# Chapter 5 - Support Vector Machines (SVM)"
   ]
  },
  {
   "cell_type": "code",
   "execution_count": null,
   "id": "56091b0c-bb56-416a-9359-5b5ea1a4d290",
   "metadata": {},
   "outputs": [],
   "source": []
  }
 ],
 "metadata": {
  "kernelspec": {
   "display_name": "Python 3 (ipykernel)",
   "language": "python",
   "name": "python3"
  },
  "language_info": {
   "codemirror_mode": {
    "name": "ipython",
    "version": 3
   },
   "file_extension": ".py",
   "mimetype": "text/x-python",
   "name": "python",
   "nbconvert_exporter": "python",
   "pygments_lexer": "ipython3",
   "version": "3.9.13"
  }
 },
 "nbformat": 4,
 "nbformat_minor": 5
}
